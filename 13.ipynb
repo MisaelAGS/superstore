{
 "cells": [
  {
   "cell_type": "code",
   "execution_count": 14,
   "id": "c47e0d77",
   "metadata": {},
   "outputs": [
    {
     "name": "stdout",
     "output_type": "stream",
     "text": [
      "19606 produtos foram vendidos com desconto\n",
      "18267 produtos foram vendidos sem desconto\n"
     ]
    }
   ],
   "source": [
    "import pandas as pd\n",
    "df = pd.read_csv('data/superstore.csv', encoding='ISO-8859-1')\n",
    "qtde_produtos_com_desconto = df[df['Discount'] > 0.0]['Quantity'].sum()\n",
    "qtde_produtos_sem_desconto = df[df['Discount'] == 0.0]['Quantity'].sum()\n",
    "print(f'{qtde_produtos_com_desconto} produtos foram vendidos com desconto')\n",
    "print(f'{qtde_produtos_sem_desconto} produtos foram vendidos sem desconto')"
   ]
  }
 ],
 "metadata": {
  "kernelspec": {
   "display_name": "venv",
   "language": "python",
   "name": "python3"
  },
  "language_info": {
   "codemirror_mode": {
    "name": "ipython",
    "version": 3
   },
   "file_extension": ".py",
   "mimetype": "text/x-python",
   "name": "python",
   "nbconvert_exporter": "python",
   "pygments_lexer": "ipython3",
   "version": "3.12.3"
  }
 },
 "nbformat": 4,
 "nbformat_minor": 5
}
