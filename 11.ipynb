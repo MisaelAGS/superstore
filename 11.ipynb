{
 "cells": [
  {
   "cell_type": "code",
   "execution_count": 22,
   "id": "0c641b17",
   "metadata": {},
   "outputs": [
    {
     "name": "stdout",
     "output_type": "stream",
     "text": [
      "O produto que gerou maior lucro foi Canon imageCLASS 2200 Advanced Copier\n",
      "O Lucro Total foi de R$ 25199.93\n"
     ]
    }
   ],
   "source": [
    "import pandas as pd\n",
    "df = pd.read_csv('data/superstore.csv', encoding='ISO-8859-1')\n",
    "prod_maior_lucro = df.groupby(\n",
    "    ['Product ID', 'Product Name'], as_index=False)['Profit'].sum().sort_values(\n",
    "        'Profit', ascending=False).head(1).rename(columns={\n",
    "            'Product ID': 'ID Produto',\n",
    "            'Product Name': 'Nome do Produto',\n",
    "            'Profit': 'Lucro Total'\n",
    "        })\n",
    "print(f'O produto que gerou maior lucro foi {prod_maior_lucro[\"Nome do Produto\"].iloc[0]}')\n",
    "print(f'O Lucro Total foi de R$ {prod_maior_lucro[\"Lucro Total\"].iloc[0]:.2f}')"
   ]
  }
 ],
 "metadata": {
  "kernelspec": {
   "display_name": "venv",
   "language": "python",
   "name": "python3"
  },
  "language_info": {
   "codemirror_mode": {
    "name": "ipython",
    "version": 3
   },
   "file_extension": ".py",
   "mimetype": "text/x-python",
   "name": "python",
   "nbconvert_exporter": "python",
   "pygments_lexer": "ipython3",
   "version": "3.12.3"
  }
 },
 "nbformat": 4,
 "nbformat_minor": 5
}
