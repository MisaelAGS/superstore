{
 "cells": [
  {
   "cell_type": "code",
   "execution_count": 22,
   "id": "07087571",
   "metadata": {},
   "outputs": [
    {
     "data": {
      "text/html": [
       "<div>\n",
       "<style scoped>\n",
       "    .dataframe tbody tr th:only-of-type {\n",
       "        vertical-align: middle;\n",
       "    }\n",
       "\n",
       "    .dataframe tbody tr th {\n",
       "        vertical-align: top;\n",
       "    }\n",
       "\n",
       "    .dataframe thead th {\n",
       "        text-align: right;\n",
       "    }\n",
       "</style>\n",
       "<table border=\"1\" class=\"dataframe\">\n",
       "  <thead>\n",
       "    <tr style=\"text-align: right;\">\n",
       "      <th></th>\n",
       "      <th>ID Produto</th>\n",
       "      <th>Nome Produto</th>\n",
       "      <th>Lucro Total</th>\n",
       "    </tr>\n",
       "  </thead>\n",
       "  <tbody>\n",
       "    <tr>\n",
       "      <th>767</th>\n",
       "      <td>OFF-BI-10002931</td>\n",
       "      <td>Avery Trapezoid Extra Heavy Duty 4\" Binders</td>\n",
       "      <td>0.0</td>\n",
       "    </tr>\n",
       "    <tr>\n",
       "      <th>946</th>\n",
       "      <td>OFF-FA-10003467</td>\n",
       "      <td>Alliance Big Bands Rubber Bands, 12/Pack</td>\n",
       "      <td>0.0</td>\n",
       "    </tr>\n",
       "    <tr>\n",
       "      <th>1411</th>\n",
       "      <td>OFF-ST-10003324</td>\n",
       "      <td>Belkin OmniView SE Rackmount Kit</td>\n",
       "      <td>0.0</td>\n",
       "    </tr>\n",
       "  </tbody>\n",
       "</table>\n",
       "</div>"
      ],
      "text/plain": [
       "           ID Produto                                 Nome Produto  \\\n",
       "767   OFF-BI-10002931  Avery Trapezoid Extra Heavy Duty 4\" Binders   \n",
       "946   OFF-FA-10003467     Alliance Big Bands Rubber Bands, 12/Pack   \n",
       "1411  OFF-ST-10003324             Belkin OmniView SE Rackmount Kit   \n",
       "\n",
       "      Lucro Total  \n",
       "767           0.0  \n",
       "946           0.0  \n",
       "1411          0.0  "
      ]
     },
     "execution_count": 22,
     "metadata": {},
     "output_type": "execute_result"
    }
   ],
   "source": [
    "import pandas as pd\n",
    "df = pd.read_csv('data/superstore.csv', encoding='ISO-8859-1')\n",
    "lucro_por_produto = df.groupby(['Product ID', 'Product Name'], as_index=False)['Profit'].sum()\n",
    "produtos_sem_lucro = lucro_por_produto[lucro_por_produto['Profit'] == 0].rename(columns={\n",
    "    \"Product ID\": \"ID Produto\",\n",
    "    \"Profit\": \"Lucro Total\",\n",
    "    \"Product Name\": \"Nome Produto\"\n",
    "})\n",
    "produtos_sem_lucro"
   ]
  }
 ],
 "metadata": {
  "kernelspec": {
   "display_name": "venv",
   "language": "python",
   "name": "python3"
  },
  "language_info": {
   "codemirror_mode": {
    "name": "ipython",
    "version": 3
   },
   "file_extension": ".py",
   "mimetype": "text/x-python",
   "name": "python",
   "nbconvert_exporter": "python",
   "pygments_lexer": "ipython3",
   "version": "3.12.3"
  }
 },
 "nbformat": 4,
 "nbformat_minor": 5
}
