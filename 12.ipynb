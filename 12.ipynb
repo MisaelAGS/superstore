{
 "cells": [
  {
   "cell_type": "code",
   "execution_count": 53,
   "id": "d02c19a5",
   "metadata": {},
   "outputs": [
    {
     "data": {
      "text/html": [
       "<div>\n",
       "<style scoped>\n",
       "    .dataframe tbody tr th:only-of-type {\n",
       "        vertical-align: middle;\n",
       "    }\n",
       "\n",
       "    .dataframe tbody tr th {\n",
       "        vertical-align: top;\n",
       "    }\n",
       "\n",
       "    .dataframe thead th {\n",
       "        text-align: right;\n",
       "    }\n",
       "</style>\n",
       "<table border=\"1\" class=\"dataframe\">\n",
       "  <thead>\n",
       "    <tr style=\"text-align: right;\">\n",
       "      <th></th>\n",
       "      <th>Category</th>\n",
       "      <th>Ano Pedido</th>\n",
       "      <th>Sales</th>\n",
       "      <th>%</th>\n",
       "    </tr>\n",
       "  </thead>\n",
       "  <tbody>\n",
       "    <tr>\n",
       "      <th>1</th>\n",
       "      <td>Furniture</td>\n",
       "      <td>2015</td>\n",
       "      <td>170518.2370</td>\n",
       "      <td>8.477093</td>\n",
       "    </tr>\n",
       "    <tr>\n",
       "      <th>2</th>\n",
       "      <td>Furniture</td>\n",
       "      <td>2016</td>\n",
       "      <td>198901.4360</td>\n",
       "      <td>16.645257</td>\n",
       "    </tr>\n",
       "    <tr>\n",
       "      <th>3</th>\n",
       "      <td>Furniture</td>\n",
       "      <td>2017</td>\n",
       "      <td>215387.2692</td>\n",
       "      <td>8.288444</td>\n",
       "    </tr>\n",
       "    <tr>\n",
       "      <th>6</th>\n",
       "      <td>Office Supplies</td>\n",
       "      <td>2016</td>\n",
       "      <td>183939.9820</td>\n",
       "      <td>34.034351</td>\n",
       "    </tr>\n",
       "    <tr>\n",
       "      <th>7</th>\n",
       "      <td>Office Supplies</td>\n",
       "      <td>2017</td>\n",
       "      <td>246097.1750</td>\n",
       "      <td>33.792106</td>\n",
       "    </tr>\n",
       "    <tr>\n",
       "      <th>10</th>\n",
       "      <td>Technology</td>\n",
       "      <td>2016</td>\n",
       "      <td>226364.1800</td>\n",
       "      <td>39.060729</td>\n",
       "    </tr>\n",
       "    <tr>\n",
       "      <th>11</th>\n",
       "      <td>Technology</td>\n",
       "      <td>2017</td>\n",
       "      <td>271730.8110</td>\n",
       "      <td>20.041435</td>\n",
       "    </tr>\n",
       "  </tbody>\n",
       "</table>\n",
       "</div>"
      ],
      "text/plain": [
       "           Category  Ano Pedido        Sales          %\n",
       "1         Furniture        2015  170518.2370   8.477093\n",
       "2         Furniture        2016  198901.4360  16.645257\n",
       "3         Furniture        2017  215387.2692   8.288444\n",
       "6   Office Supplies        2016  183939.9820  34.034351\n",
       "7   Office Supplies        2017  246097.1750  33.792106\n",
       "10       Technology        2016  226364.1800  39.060729\n",
       "11       Technology        2017  271730.8110  20.041435"
      ]
     },
     "execution_count": 53,
     "metadata": {},
     "output_type": "execute_result"
    }
   ],
   "source": [
    "import pandas as pd\n",
    "df = pd.read_csv('data/superstore.csv', encoding='ISO-8859-1')\n",
    "df['Order Date'] = pd.to_datetime(df['Order Date'])\n",
    "df['Ano Pedido'] = df['Order Date'].dt.year\n",
    "summary = df.groupby(['Category', 'Ano Pedido'], as_index=False)['Sales'].sum()\n",
    "summary['%'] = summary.groupby('Category')['Sales'].pct_change() * 100\n",
    "summary = summary.dropna(how='any', subset=['%'])\n",
    "summary[summary['%'] > 0.0]"
   ]
  }
 ],
 "metadata": {
  "kernelspec": {
   "display_name": "venv",
   "language": "python",
   "name": "python3"
  },
  "language_info": {
   "codemirror_mode": {
    "name": "ipython",
    "version": 3
   },
   "file_extension": ".py",
   "mimetype": "text/x-python",
   "name": "python",
   "nbconvert_exporter": "python",
   "pygments_lexer": "ipython3",
   "version": "3.12.3"
  }
 },
 "nbformat": 4,
 "nbformat_minor": 5
}
