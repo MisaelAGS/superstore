{
 "cells": [
  {
   "cell_type": "code",
   "execution_count": 15,
   "id": "7a8481a9",
   "metadata": {},
   "outputs": [
    {
     "name": "stdout",
     "output_type": "stream",
     "text": [
      "A média de produtos por produtos é 7.56\n"
     ]
    }
   ],
   "source": [
    "import pandas as pd\n",
    "df = pd.read_csv('data/superstore.csv', encoding='ISO-8859-1')\n",
    "total_pedidos_por_produtos = df.groupby('Order ID', as_index=False)['Quantity'].sum()\n",
    "media = total_pedidos_por_produtos['Quantity'].mean()\n",
    "print(f'A média de produtos por produtos é {media:.2f}')"
   ]
  }
 ],
 "metadata": {
  "kernelspec": {
   "display_name": "venv",
   "language": "python",
   "name": "python3"
  },
  "language_info": {
   "codemirror_mode": {
    "name": "ipython",
    "version": 3
   },
   "file_extension": ".py",
   "mimetype": "text/x-python",
   "name": "python",
   "nbconvert_exporter": "python",
   "pygments_lexer": "ipython3",
   "version": "3.12.3"
  }
 },
 "nbformat": 4,
 "nbformat_minor": 5
}
