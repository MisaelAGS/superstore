{
 "cells": [
  {
   "cell_type": "code",
   "execution_count": 17,
   "id": "3d691f3a",
   "metadata": {},
   "outputs": [
    {
     "name": "stdout",
     "output_type": "stream",
     "text": [
      "O valor total de lucro com desconto é R$-34590.58\n",
      "O valor total de lucro sem desconto é R$320987.60\n"
     ]
    }
   ],
   "source": [
    "import pandas as pd\n",
    "df = pd.read_csv('data/superstore.csv', encoding='ISO-8859-1')\n",
    "com_desconto = df['Discount'] > 0.00\n",
    "sem_desconto = df['Discount'] == 0.00\n",
    "lucro_com_desconto = df[com_desconto]['Profit'].sum()\n",
    "lucro_sem_desconto = df[sem_desconto]['Profit'].sum()\n",
    "print(f'O valor total de lucro com desconto é R${lucro_com_desconto:.2f}')\n",
    "print(f'O valor total de lucro sem desconto é R${lucro_sem_desconto:.2f}')\n"
   ]
  }
 ],
 "metadata": {
  "kernelspec": {
   "display_name": "venv",
   "language": "python",
   "name": "python3"
  },
  "language_info": {
   "codemirror_mode": {
    "name": "ipython",
    "version": 3
   },
   "file_extension": ".py",
   "mimetype": "text/x-python",
   "name": "python",
   "nbconvert_exporter": "python",
   "pygments_lexer": "ipython3",
   "version": "3.12.3"
  }
 },
 "nbformat": 4,
 "nbformat_minor": 5
}
